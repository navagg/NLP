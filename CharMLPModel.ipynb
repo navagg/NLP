{
 "cells": [
  {
   "cell_type": "markdown",
   "metadata": {},
   "source": [
    "### This is the third Part of Char level Modeling and will discuss Neural Model for same\n",
    "### Complete First and Second Part before starting this\n",
    "By Naveen Aggarwal"
   ]
  },
  {
   "cell_type": "code",
   "execution_count": 1,
   "metadata": {},
   "outputs": [],
   "source": [
    "import torch\n",
    "import torch.nn.functional as F  # For Torch.generator\n",
    "import matplotlib.pyplot as plt\n",
    "%matplotlib inline"
   ]
  },
  {
   "cell_type": "code",
   "execution_count": 2,
   "metadata": {},
   "outputs": [],
   "source": [
    "words=open(\"names.txt\", 'r').read().splitlines()"
   ]
  },
  {
   "cell_type": "code",
   "execution_count": 3,
   "metadata": {},
   "outputs": [],
   "source": [
    "chars= list('.abcdefghijklmnopqrstuvwxyz') # This may be changed to chars=sorted(list(set(''.join(words))))\n",
    "stoi={s:i for i,s in enumerate(chars)}\n",
    "#stoi\n",
    "\n",
    "# Lets also create itos, we will use later\n",
    "itos={i:s for i,s in enumerate (chars)}\n",
    "#itos"
   ]
  },
  {
   "cell_type": "code",
   "execution_count": 52,
   "metadata": {},
   "outputs": [
    {
     "name": "stdout",
     "output_type": "stream",
     "text": [
      "emma\n",
      "... ---> e\n",
      "..e ---> m\n",
      ".em ---> m\n",
      "emm ---> a\n",
      "mma ---> .\n",
      "olivia\n",
      "... ---> o\n",
      "..o ---> l\n",
      ".ol ---> i\n",
      "oli ---> v\n",
      "liv ---> i\n",
      "ivi ---> a\n",
      "via ---> .\n",
      "ava\n",
      "... ---> a\n",
      "..a ---> v\n",
      ".av ---> a\n",
      "ava ---> .\n",
      "isabella\n",
      "... ---> i\n",
      "..i ---> s\n",
      ".is ---> a\n",
      "isa ---> b\n",
      "sab ---> e\n",
      "abe ---> l\n",
      "bel ---> l\n",
      "ell ---> a\n",
      "lla ---> .\n",
      "sophia\n",
      "... ---> s\n",
      "..s ---> o\n",
      ".so ---> p\n",
      "sop ---> h\n",
      "oph ---> i\n",
      "phi ---> a\n",
      "hia ---> .\n"
     ]
    }
   ],
   "source": [
    "# Create a dataset\n",
    "block_size=3\n",
    "X,Y =[],[]\n",
    "for w in words[:5]:\n",
    "    print(w)\n",
    "    context=[0]*block_size\n",
    "    #print(context)\n",
    "    for ch in w +'.':\n",
    "        ix=stoi[ch]\n",
    "        X.append(context)\n",
    "        Y.append(ix)\n",
    "        print(''.join(itos[i] for i in context), '--->', itos[ix])\n",
    "        context=context[1:]+[ix]\n",
    "        #print context to get better understanding\n",
    "        #print(context)\n",
    "        \n",
    "X=torch.tensor(X)\n",
    "Y=torch.tensor(Y)\n",
    "# Change block_size to higher value to get better understanding"
   ]
  },
  {
   "cell_type": "code",
   "execution_count": 53,
   "metadata": {},
   "outputs": [
    {
     "name": "stdout",
     "output_type": "stream",
     "text": [
      "torch.Size([32, 3]) torch.Size([32]) torch.int64 torch.int64\n",
      "tensor([[ 0,  0,  0],\n",
      "        [ 0,  0,  5],\n",
      "        [ 0,  5, 13],\n",
      "        [ 5, 13, 13],\n",
      "        [13, 13,  1],\n",
      "        [ 0,  0,  0],\n",
      "        [ 0,  0, 15],\n",
      "        [ 0, 15, 12],\n",
      "        [15, 12,  9],\n",
      "        [12,  9, 22],\n",
      "        [ 9, 22,  9],\n",
      "        [22,  9,  1],\n",
      "        [ 0,  0,  0],\n",
      "        [ 0,  0,  1],\n",
      "        [ 0,  1, 22],\n",
      "        [ 1, 22,  1],\n",
      "        [ 0,  0,  0],\n",
      "        [ 0,  0,  9],\n",
      "        [ 0,  9, 19],\n",
      "        [ 9, 19,  1],\n",
      "        [19,  1,  2],\n",
      "        [ 1,  2,  5],\n",
      "        [ 2,  5, 12],\n",
      "        [ 5, 12, 12],\n",
      "        [12, 12,  1],\n",
      "        [ 0,  0,  0],\n",
      "        [ 0,  0, 19],\n",
      "        [ 0, 19, 15],\n",
      "        [19, 15, 16],\n",
      "        [15, 16,  8],\n",
      "        [16,  8,  9],\n",
      "        [ 8,  9,  1]])\n",
      "tensor([ 5, 13, 13,  1,  0, 15, 12,  9, 22,  9,  1,  0,  1, 22,  1,  0,  9, 19,\n",
      "         1,  2,  5, 12, 12,  1,  0, 19, 15, 16,  8,  9,  1,  0])\n"
     ]
    }
   ],
   "source": [
    "# Check X, Y\n",
    "print(X.shape, Y.shape, X.dtype, Y.dtype)\n",
    "print(X)\n",
    "print(Y)"
   ]
  },
  {
   "cell_type": "markdown",
   "metadata": {},
   "source": [
    "#### Now Lets build an Input vector for NN\n",
    "#### We will map X to a two dimensional random vector"
   ]
  },
  {
   "cell_type": "code",
   "execution_count": 54,
   "metadata": {},
   "outputs": [
    {
     "data": {
      "text/plain": [
       "torch.Size([32, 3, 2])"
      ]
     },
     "execution_count": 54,
     "metadata": {},
     "output_type": "execute_result"
    }
   ],
   "source": [
    "C=torch.randn((27,2))\n",
    "emb=C[X]\n",
    "emb.shape"
   ]
  },
  {
   "cell_type": "markdown",
   "metadata": {},
   "source": [
    "#### Now lets prepare hidden layer"
   ]
  },
  {
   "cell_type": "code",
   "execution_count": 55,
   "metadata": {},
   "outputs": [],
   "source": [
    "# Shape depends upon us, We are mapping all the words into two columns and considering block_size to 3\n",
    "# Later on we will have to generalize it\n",
    "W1=torch.randn(6,100)\n",
    "b1=torch.randn(100)"
   ]
  },
  {
   "cell_type": "markdown",
   "metadata": {},
   "source": [
    "#### Now Shape of emb is [32, 3, 2] . To multiply with W, we need to resize it to [16,6] by using the resize operation. In torch, it is view operation."
   ]
  },
  {
   "cell_type": "code",
   "execution_count": 56,
   "metadata": {},
   "outputs": [
    {
     "data": {
      "text/plain": [
       "torch.Size([32, 100])"
      ]
     },
     "execution_count": 56,
     "metadata": {},
     "output_type": "execute_result"
    }
   ],
   "source": [
    "# Rather than giving emb.view (32,6)--> We can write emb.view(-1,6). This will allow to pick default shape\n",
    "h=torch.tanh(emb.view(-1, 6)@W1 +b1)\n",
    "h.shape"
   ]
  },
  {
   "cell_type": "markdown",
   "metadata": {},
   "source": [
    "#### Lets create last layer\n",
    "#### In this, it will take 100 neurons from hidden layer and then output 27 classes"
   ]
  },
  {
   "cell_type": "code",
   "execution_count": 57,
   "metadata": {},
   "outputs": [],
   "source": [
    "W2=torch.randn(100,27)\n",
    "b2=torch.randn(27)"
   ]
  },
  {
   "cell_type": "code",
   "execution_count": 58,
   "metadata": {},
   "outputs": [
    {
     "data": {
      "text/plain": [
       "torch.Size([32, 27])"
      ]
     },
     "execution_count": 58,
     "metadata": {},
     "output_type": "execute_result"
    }
   ],
   "source": [
    "logits=h@W2+b2\n",
    "logits.shape"
   ]
  },
  {
   "cell_type": "code",
   "execution_count": 59,
   "metadata": {},
   "outputs": [
    {
     "name": "stdout",
     "output_type": "stream",
     "text": [
      "torch.Size([32, 27])\n"
     ]
    },
    {
     "data": {
      "text/plain": [
       "tensor(1.)"
      ]
     },
     "execution_count": 59,
     "metadata": {},
     "output_type": "execute_result"
    }
   ],
   "source": [
    "# Calculate Probs (softmax)\n",
    "counts=logits.exp()\n",
    "prob=counts/counts.sum()\n",
    "print(prob.shape)\n",
    "prob.sum()"
   ]
  },
  {
   "cell_type": "markdown",
   "metadata": {},
   "source": [
    "#### Now Lets define the loss function"
   ]
  },
  {
   "cell_type": "code",
   "execution_count": 60,
   "metadata": {},
   "outputs": [
    {
     "data": {
      "text/plain": [
       "tensor(24.5345)"
      ]
     },
     "execution_count": 60,
     "metadata": {},
     "output_type": "execute_result"
    }
   ],
   "source": [
    "loss=-prob[torch.arange(32),Y].log().mean()\n",
    "loss"
   ]
  },
  {
   "cell_type": "code",
   "execution_count": 61,
   "metadata": {},
   "outputs": [
    {
     "data": {
      "text/plain": [
       "tensor(24.5345)"
      ]
     },
     "execution_count": 61,
     "metadata": {},
     "output_type": "execute_result"
    }
   ],
   "source": [
    "# Now Instead of using code in above two blocks\n",
    "#counts=logits.exp()\n",
    "#prob=counts/counts.sum()\n",
    "#loss=-prob[torch.arange(16),Y].log().mean()\n",
    "\n",
    "# We can simply use cross entropy function\n",
    "F.cross_entropy(logits,Y)\n",
    "loss"
   ]
  },
  {
   "cell_type": "markdown",
   "metadata": {},
   "source": [
    "#### Now Lets Compile all discussed above in few cells"
   ]
  },
  {
   "cell_type": "code",
   "execution_count": 97,
   "metadata": {},
   "outputs": [
    {
     "data": {
      "text/plain": [
       "3481"
      ]
     },
     "execution_count": 97,
     "metadata": {},
     "output_type": "execute_result"
    }
   ],
   "source": [
    "# Define all parameters\n",
    "g=torch.Generator().manual_seed(9814865455)\n",
    "C=torch.randn((27,2), generator=g)\n",
    "W1=torch.randn((6,100), generator=g)\n",
    "b1=torch.randn((100), generator=g)\n",
    "W2=torch.randn((100,27), generator=g)\n",
    "b2=torch.randn((27), generator=g)\n",
    "parameters=[C,W1,b1, W2, b2]\n",
    "sum(p.nelement() for p in parameters)"
   ]
  },
  {
   "cell_type": "code",
   "execution_count": 71,
   "metadata": {},
   "outputs": [
    {
     "name": "stdout",
     "output_type": "stream",
     "text": [
      "3.7152533531188965\n",
      "3.701462745666504\n",
      "3.687932252883911\n",
      "3.6746551990509033\n",
      "3.661623954772949\n",
      "3.648832321166992\n",
      "3.6362721920013428\n",
      "3.6239378452301025\n",
      "3.6118221282958984\n",
      "3.599918842315674\n"
     ]
    }
   ],
   "source": [
    "#Initialize P\n",
    "for p in parameters:\n",
    "    p.requires_grad=True\n",
    "#Loop it    \n",
    "for _ in range (10):\n",
    "    # Forward Pass\n",
    "\n",
    "    emb=C[X]\n",
    "    h=torch.tanh(emb.view(-1, 6)@W1 +b1)\n",
    "    logits=h @ W2 + b2\n",
    "\n",
    "    loss=F.cross_entropy(logits,Y)\n",
    "    print(loss.item())\n",
    "\n",
    "    # Backward Pass\n",
    "    for p in parameters:\n",
    "        p.grad=None\n",
    "    loss.backward()\n",
    "\n",
    "    #update\n",
    "    lr=0.1\n",
    "    for p in parameters:\n",
    "        p.data+=-lr * p.grad\n"
   ]
  },
  {
   "cell_type": "markdown",
   "metadata": {},
   "source": [
    "#### Now we have understood, lets do it for full dataset"
   ]
  },
  {
   "cell_type": "code",
   "execution_count": 68,
   "metadata": {},
   "outputs": [
    {
     "name": "stdout",
     "output_type": "stream",
     "text": [
      "torch.Size([228146, 3]) torch.Size([228146])\n"
     ]
    }
   ],
   "source": [
    "# Create a dataset\n",
    "block_size=3\n",
    "X,Y =[],[]\n",
    "for w in words:\n",
    "    context=[0]*block_size\n",
    "    for ch in w +'.':\n",
    "        ix=stoi[ch]\n",
    "        X.append(context)\n",
    "        Y.append(ix)\n",
    "        context=context[1:]+[ix]\n",
    "        \n",
    "        \n",
    "X=torch.tensor(X)\n",
    "Y=torch.tensor(Y)\n",
    "print(X.shape,Y.shape)"
   ]
  },
  {
   "cell_type": "markdown",
   "metadata": {},
   "source": [
    "#### Now We can run generate parameters and Forward backward pass blocks again"
   ]
  },
  {
   "cell_type": "markdown",
   "metadata": {},
   "source": [
    "### Now lets create a mininbatch and run the same code again"
   ]
  },
  {
   "cell_type": "code",
   "execution_count": 77,
   "metadata": {},
   "outputs": [
    {
     "name": "stdout",
     "output_type": "stream",
     "text": [
      "2.648634910583496\n"
     ]
    }
   ],
   "source": [
    "#Initialize P\n",
    "for p in parameters:\n",
    "    p.requires_grad=True\n",
    "\n",
    "#Loop it    \n",
    "for _ in range (100):\n",
    "    # Create a Minibatch to run it faster\n",
    "    ix=torch.randint(0,X.shape[0],(32,))\n",
    "    # Forward Pass\n",
    "\n",
    "    emb=C[X[ix]]\n",
    "    h=torch.tanh(emb.view(-1, 6)@W1 +b1)\n",
    "    logits=h @ W2 + b2\n",
    "\n",
    "    loss=F.cross_entropy(logits,Y[ix])\n",
    "    #print(loss.item())\n",
    "\n",
    "    # Backward Pass\n",
    "    for p in parameters:\n",
    "        p.grad=None\n",
    "    loss.backward()\n",
    "\n",
    "    #update\n",
    "    lr=0.1\n",
    "    for p in parameters:\n",
    "        p.data+=-lr * p.grad\n",
    "#final Loss Value\n",
    "print(loss.item())"
   ]
  },
  {
   "cell_type": "markdown",
   "metadata": {},
   "source": [
    "### How to Find which learning rate is good. Lets create a list of 100 learning rates varying from -000.1 to -1"
   ]
  },
  {
   "cell_type": "code",
   "execution_count": 87,
   "metadata": {},
   "outputs": [],
   "source": [
    "lre=torch.linspace(-3, 0, 1000)\n",
    "lrs=10**lre"
   ]
  },
  {
   "cell_type": "markdown",
   "metadata": {},
   "source": [
    "#### Now We will run the same code again, But store lr and loss for each iteration. So that we can plot to check best learning rate"
   ]
  },
  {
   "cell_type": "code",
   "execution_count": 98,
   "metadata": {},
   "outputs": [],
   "source": [
    "# Before Running Initialize all paramters again\n",
    "lri=[]\n",
    "lossi=[]\n",
    "#Initialize P\n",
    "for p in parameters:\n",
    "    p.requires_grad=True\n",
    "\n",
    "for i in range (1000):\n",
    "    # Create a Minibatch to run it faster\n",
    "    ix=torch.randint(0,X.shape[0],(32,))\n",
    "    # Forward Pass\n",
    "\n",
    "    emb=C[X[ix]]\n",
    "    h=torch.tanh(emb.view(-1, 6)@W1 +b1)\n",
    "    logits=h @ W2 + b2\n",
    "\n",
    "    loss=F.cross_entropy(logits,Y[ix])\n",
    "    #print(loss.item())\n",
    "\n",
    "    # Backward Pass\n",
    "    for p in parameters:\n",
    "        p.grad=None\n",
    "    loss.backward()\n",
    "\n",
    "    #update\n",
    "    lr=lrs[i]\n",
    "    for p in parameters:\n",
    "        p.data+=-lr * p.grad\n",
    "    #final Loss Value\n",
    "    lri.append(lre[i])\n",
    "    lossi.append(loss.item())"
   ]
  },
  {
   "cell_type": "code",
   "execution_count": 99,
   "metadata": {},
   "outputs": [
    {
     "data": {
      "text/plain": [
       "[<matplotlib.lines.Line2D at 0x1f48a6fbf98>]"
      ]
     },
     "execution_count": 99,
     "metadata": {},
     "output_type": "execute_result"
    },
    {
     "data": {
      "image/png": "[encoded data removed]",
      "text/plain": [
       "<Figure size 432x288 with 1 Axes>"
      ]
     },
     "metadata": {
      "needs_background": "light"
     },
     "output_type": "display_data"
    }
   ],
   "source": [
    "plt.plot(lri, lossi)"
   ]
  },
  {
   "cell_type": "markdown",
   "metadata": {},
   "source": [
    "#### So from above it is clear that best learning rate is around 10^-1"
   ]
  },
  {
   "cell_type": "markdown",
   "metadata": {},
   "source": [
    "#### Now to check the performance of the model, First Create training set, dev set and test set"
   ]
  },
  {
   "cell_type": "code",
   "execution_count": 100,
   "metadata": {},
   "outputs": [
    {
     "name": "stdout",
     "output_type": "stream",
     "text": [
      "torch.Size([182416, 3]) torch.Size([182416])\n",
      "torch.Size([22792, 3]) torch.Size([22792])\n",
      "torch.Size([22938, 3]) torch.Size([22938])\n"
     ]
    }
   ],
   "source": [
    "# Create a dataset\n",
    "def build_dataset(words):\n",
    "    \n",
    "    block_size=3\n",
    "    X,Y =[],[]\n",
    "    for w in words:\n",
    "        context=[0]*block_size\n",
    "        for ch in w +'.':\n",
    "            ix=stoi[ch]\n",
    "            X.append(context)\n",
    "            Y.append(ix)\n",
    "            context=context[1:]+[ix]\n",
    "        \n",
    "        \n",
    "    X=torch.tensor(X)\n",
    "    Y=torch.tensor(Y)\n",
    "    print(X.shape,Y.shape)\n",
    "    return X, Y\n",
    "\n",
    "import random \n",
    "random.seed=42\n",
    "random.shuffle(words)\n",
    "n1=int(0.8*len(words))\n",
    "n2=int(0.9*len(words))\n",
    "Xtr, Ytr=build_dataset(words[:n1])\n",
    "Xdev, Ydev=build_dataset(words[n1:n2])\n",
    "Xtest, Ytest=build_dataset(words[n2:])"
   ]
  },
  {
   "cell_type": "code",
   "execution_count": 110,
   "metadata": {},
   "outputs": [],
   "source": [
    "# I have created a function to run it again and again\n",
    "def initialize(dimension, h_neurons):\n",
    "    # Define all parameters\n",
    "    g=torch.Generator().manual_seed(9814865455)\n",
    "    C=torch.randn((27,dimension), generator=g)\n",
    "    W1=torch.randn((dimension*3,h_neurons), generator=g)\n",
    "    b1=torch.randn((h_neurons), generator=g)\n",
    "    W2=torch.randn((h_neurons,27), generator=g)\n",
    "    b2=torch.randn((27), generator=g)\n",
    "    parameters=[C,W1,b1, W2, b2]\n",
    "    sum(p.nelement() for p in parameters)"
   ]
  },
  {
   "cell_type": "code",
   "execution_count": 111,
   "metadata": {},
   "outputs": [],
   "source": [
    "#This we will run again for each new experiment\n",
    "initialize(2,100)\n",
    "#Initialize P\n",
    "for p in parameters:\n",
    "    p.requires_grad=True\n"
   ]
  },
  {
   "cell_type": "code",
   "execution_count": 135,
   "metadata": {},
   "outputs": [],
   "source": [
    "lri=[]\n",
    "lossi=[]\n",
    "stepi=[]"
   ]
  },
  {
   "cell_type": "code",
   "execution_count": 141,
   "metadata": {},
   "outputs": [],
   "source": [
    "# same Code as above\n",
    "for i in range (200000):\n",
    "    # Create a Minibatch to run it faster\n",
    "    ix=torch.randint(0,Xtr.shape[0],(32,))\n",
    "    # Forward Pass\n",
    "\n",
    "    emb=C[Xtr[ix]]\n",
    "    h=torch.tanh(emb.view(-1, 6)@W1 +b1)\n",
    "    logits=h @ W2 + b2\n",
    "\n",
    "    loss=F.cross_entropy(logits,Ytr[ix])\n",
    "    #print(loss.item())\n",
    "\n",
    "    # Backward Pass\n",
    "    for p in parameters:\n",
    "        p.grad=None\n",
    "    loss.backward()\n",
    "\n",
    "    #update\n",
    "    # Change the learning rate after 10000 steps\n",
    "    lr=0.1 if i <10000 else 0.01\n",
    "    for p in parameters:\n",
    "        p.data+=-lr * p.grad\n",
    "    #final Loss Value\n",
    "    #lri.append(lre[i])\n",
    "    stepi.append(i)\n",
    "    lossi.append(loss.log10().item())"
   ]
  },
  {
   "cell_type": "code",
   "execution_count": 142,
   "metadata": {},
   "outputs": [
    {
     "data": {
      "text/plain": [
       "[<matplotlib.lines.Line2D at 0x1f493504f98>]"
      ]
     },
     "execution_count": 142,
     "metadata": {},
     "output_type": "execute_result"
    },
    {
     "data": {
      "image/png": "[encoded data removed]",
      "text/plain": [
       "<Figure size 432x288 with 1 Axes>"
      ]
     },
     "metadata": {
      "needs_background": "light"
     },
     "output_type": "display_data"
    }
   ],
   "source": [
    "plt.plot(stepi, lossi)"
   ]
  },
  {
   "cell_type": "code",
   "execution_count": 143,
   "metadata": {},
   "outputs": [
    {
     "name": "stdout",
     "output_type": "stream",
     "text": [
      "2.227027177810669\n"
     ]
    }
   ],
   "source": [
    "# Calculate Training Loss\n",
    "emb=C[Xtr]\n",
    "h=torch.tanh(emb.view(-1, 6)@W1 +b1)\n",
    "logits=h @ W2 + b2\n",
    "loss=F.cross_entropy(logits,Ytr)\n",
    "print(loss.item())"
   ]
  },
  {
   "cell_type": "code",
   "execution_count": 144,
   "metadata": {},
   "outputs": [
    {
     "name": "stdout",
     "output_type": "stream",
     "text": [
      "2.227346181869507\n"
     ]
    }
   ],
   "source": [
    "# Calculate Dev Loss\n",
    "\n",
    "emb=C[Xdev]\n",
    "h=torch.tanh(emb.view(-1, 6)@W1 +b1)\n",
    "logits=h @ W2 + b2\n",
    "loss=F.cross_entropy(logits,Ydev)\n",
    "print(loss.item())"
   ]
  },
  {
   "cell_type": "markdown",
   "metadata": {},
   "source": [
    "### Since Training and Development loss are nearly equal, so there is no overfitting. But we can improve the model By changing the dimesnions  and Hidden Layer Neurons"
   ]
  },
  {
   "cell_type": "code",
   "execution_count": 117,
   "metadata": {},
   "outputs": [],
   "source": [
    "# Lets Initialize again\n",
    "#This we will run again for each new experiment\n",
    "initialize(10,300)\n",
    "#Initialize P\n",
    "for p in parameters:\n",
    "    p.requires_grad=True"
   ]
  },
  {
   "cell_type": "markdown",
   "metadata": {},
   "source": [
    "#### Run the above Cells of training again for multiple times (multiple epochs) and then check result on Test Set"
   ]
  },
  {
   "cell_type": "code",
   "execution_count": 140,
   "metadata": {},
   "outputs": [
    {
     "name": "stdout",
     "output_type": "stream",
     "text": [
      "2.2553932666778564\n"
     ]
    }
   ],
   "source": [
    "# Calculate Dev Loss\n",
    "\n",
    "emb=C[Xtest]\n",
    "h=torch.tanh(emb.view(-1, 6)@W1 +b1)\n",
    "logits=h @ W2 + b2\n",
    "loss=F.cross_entropy(logits,Ytest)\n",
    "print(loss.item())"
   ]
  },
  {
   "cell_type": "code",
   "execution_count": 147,
   "metadata": {},
   "outputs": [
    {
     "name": "stdout",
     "output_type": "stream",
     "text": [
      "kimendentison.\n",
      "liora.\n",
      "divonilyn.\n",
      "zorkongelen.\n",
      "shiav.\n",
      "gora.\n",
      "kalipkis.\n",
      "betabricterleine.\n",
      "brich.\n",
      "suuttequan.\n",
      "neim.\n",
      "marie.\n",
      "meigayzel.\n",
      "aghib.\n",
      "dylle.\n",
      "makeriyah.\n",
      "derleyah.\n",
      "jysyn.\n",
      "kra.\n",
      "rige.\n"
     ]
    }
   ],
   "source": [
    "g=torch.Generator().manual_seed(9814865455+10)\n",
    "for _ in range(20):\n",
    "    out=[]\n",
    "    context=[0]*block_size\n",
    "    while True:\n",
    "        emb=C[torch.tensor([context])]\n",
    "        h=torch.tanh(emb.view(1, -1)@W1 +b1)\n",
    "        logits=h @ W2 + b2\n",
    "        probs=F.softmax(logits, dim=1)\n",
    "        ix=torch.multinomial(probs, num_samples=1, generator=g).item()\n",
    "        context=context[1:]+[ix]\n",
    "        out.append(ix)\n",
    "        if ix==0:\n",
    "            break\n",
    "    print(''.join(itos[i] for i in out))\n",
    "        "
   ]
  },
  {
   "cell_type": "code",
   "execution_count": null,
   "metadata": {},
   "outputs": [],
   "source": []
  }
 ],
 "metadata": {
  "kernelspec": {
   "display_name": "Python 3",
   "language": "python",
   "name": "python3"
  },
  "language_info": {
   "codemirror_mode": {
    "name": "ipython",
    "version": 3
   },
   "file_extension": ".py",
   "mimetype": "text/x-python",
   "name": "python",
   "nbconvert_exporter": "python",
   "pygments_lexer": "ipython3",
   "version": "3.6.7"
  }
 },
 "nbformat": 4,
 "nbformat_minor": 2
}
